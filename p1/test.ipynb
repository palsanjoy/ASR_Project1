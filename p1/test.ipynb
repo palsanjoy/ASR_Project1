{
 "cells": [
  {
   "cell_type": "code",
   "execution_count": 1,
   "metadata": {},
   "outputs": [],
   "source": [
    "import pandas as pd\n",
    "import numpy as np\n",
    "from sklearn.mixture import GaussianMixture\n",
    "import pickle\n",
    "import os\n",
    "import glob"
   ]
  },
  {
   "cell_type": "code",
   "execution_count": 3,
   "metadata": {},
   "outputs": [
    {
     "name": "stdout",
     "output_type": "stream",
     "text": [
      "        0_x          1         2         3         4         5         6  \\\n",
      "0  6.900333 -31.086409 -2.435996 -2.776463 -0.808890 -3.903032  4.633207   \n",
      "1  7.047228 -33.148942 -4.233357 -6.645017  0.904536  1.434145  8.700283   \n",
      "2  7.244530 -31.643784  0.315534 -3.996243  2.608060  0.930876  5.632338   \n",
      "3  7.324972 -29.570619  2.366958 -2.780892  0.755487 -4.894153  5.710508   \n",
      "4  7.321366 -30.823434  0.840167 -4.758817 -0.360900 -5.599111  5.115698   \n",
      "\n",
      "          7         8         9  ...          30        31        32  \\\n",
      "0  3.699078  0.218039  1.904689  ...    0.854732  1.500499  0.606534   \n",
      "1  9.506688  1.032303  6.516931  ...    0.654570  0.285166  0.315373   \n",
      "2  4.911666 -2.691708 -1.599512  ...    0.074693 -0.972046 -0.202479   \n",
      "3  2.231653  1.616013 -5.261802  ...    0.034111 -2.022843 -0.368285   \n",
      "4  2.199870  4.351945 -5.062879  ...    1.549117 -0.300724  1.237835   \n",
      "\n",
      "         33        34        35        36        37        38  Label  \n",
      "0  0.823279 -0.500523 -0.239616  2.677175  2.020153  2.547622    sil  \n",
      "1 -0.172226 -0.011380 -1.783718  1.615556  0.569440  1.298558    sil  \n",
      "2 -1.027345  0.885152 -2.571387  1.373156  1.006906  1.097009    sil  \n",
      "3 -1.419979  0.581564 -2.440802 -0.777280  1.058004 -0.423960    sil  \n",
      "4 -0.543351  0.287732  0.599715 -0.806100  1.129320 -0.929891    sil  \n",
      "\n",
      "[5 rows x 40 columns]\n"
     ]
    }
   ],
   "source": [
    "df = pd.read_hdf(\"D:\\Mtech\\Sem4\\ASR\\Project\\Feature\\\\test_timit_mfcc_delta_delta.hdf\")\n",
    "features = np.array(df[\"features\"].tolist())\n",
    "label = np.array(df[\"labels\"].tolist())\n",
    "df1 = pd.DataFrame(features)\n",
    "df2 = pd.DataFrame(label)\n",
    "df = pd.merge(df1, df2, right_index=True, left_index=True)\n",
    "df.rename(columns={'0_y': 'Label'}, inplace=True)\n",
    "print(df.head())"
   ]
  },
  {
   "cell_type": "code",
   "execution_count": 4,
   "metadata": {},
   "outputs": [
    {
     "name": "stdout",
     "output_type": "stream",
     "text": [
      "PER for 2 M_GMM 0.8482176858699021\n",
      "PER for 4 M_GMM 0.8468206172784838\n",
      "PER for 8 M_GMM 0.8331554709294602\n",
      "PER for 16 M_GMM 0.8179382721516185\n",
      "PER for 32 M_GMM 0.8128105211885046\n",
      "PER for 64 M_GMM 0.8069012088739317\n",
      "PER for 128 M_GMM 0.8059336669175928\n"
     ]
    }
   ],
   "source": [
    "perCt =0\n",
    "totalCt =0\n",
    "\n",
    "def calPER(x,lbl):\n",
    "    global perCt\n",
    "    global totalCt\n",
    "    totalCt += 1\n",
    "    if x[lbl] != x['Label']:\n",
    "        #print(x[lbl],x['Label'])\n",
    "        if(len(x[lbl]) == 0 and len(x['Label'])!= 0 ) or (len(x[lbl]) != 0 and len(x['Label'])== 0 ) or (len(x[lbl]) != 0 and len(x['Label'])!= 0 ):\n",
    "            perCt += 1\n",
    "\n",
    "        \n",
    "test_df = df.iloc[:,:-1]\n",
    "for i in range(1,8):\n",
    "    filename = ''.join(['D:\\Mtech\\Sem4\\ASR\\Project\\Model\\\\',str(2**i),'M_GMM\\\\','*.pkl'])\n",
    "    eval_df = pd.DataFrame()\n",
    "    for file in glob.glob(filename):\n",
    "        #print(file)\n",
    "        with open(file, \"rb\") as f:\n",
    "            gmm = pickle.load(f)\n",
    "            score = gmm.score_samples(test_df)\n",
    "            label = os.path.basename(file).split('_')[0]\n",
    "            eval_df[label] = score\n",
    "    eval_label = ''.join(['eval_score_',str(2**i),'M_GMM'])\n",
    "    df[eval_label] = eval_df.idxmax(axis=1)\n",
    "    df.apply(calPER,axis=1,args=(eval_label,))\n",
    "    print('PER for',str(2**i),'M_GMM',perCt/totalCt)\n",
    "    perCt =0\n",
    "    totalCt =0\n"
   ]
  }
 ],
 "metadata": {
  "kernelspec": {
   "display_name": "Python 3",
   "language": "python",
   "name": "python3"
  },
  "language_info": {
   "codemirror_mode": {
    "name": "ipython",
    "version": 3
   },
   "file_extension": ".py",
   "mimetype": "text/x-python",
   "name": "python",
   "nbconvert_exporter": "python",
   "pygments_lexer": "ipython3",
   "version": "3.6.5"
  }
 },
 "nbformat": 4,
 "nbformat_minor": 2
}
