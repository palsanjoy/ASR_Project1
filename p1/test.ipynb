{
 "cells": [
  {
   "cell_type": "code",
   "execution_count": 1,
   "metadata": {},
   "outputs": [],
   "source": [
    "import pandas as pd\n",
    "import numpy as np\n",
    "from sklearn.mixture import GaussianMixture\n",
    "import pickle\n",
    "import os\n",
    "import glob"
   ]
  },
  {
   "cell_type": "code",
   "execution_count": 13,
   "metadata": {},
   "outputs": [
    {
     "name": "stdout",
     "output_type": "stream",
     "text": [
      "        0_x          1         2         3         4         5         6  \\\n",
      "0  6.900333 -31.086409 -2.435996 -2.776463 -0.808890 -3.903032  4.633207   \n",
      "1  7.047228 -33.148942 -4.233357 -6.645017  0.904536  1.434145  8.700283   \n",
      "2  7.244530 -31.643784  0.315534 -3.996243  2.608060  0.930876  5.632338   \n",
      "3  7.324972 -29.570619  2.366958 -2.780892  0.755487 -4.894153  5.710508   \n",
      "4  7.321366 -30.823434  0.840167 -4.758817 -0.360900 -5.599111  5.115698   \n",
      "\n",
      "          7         8         9        10        11        12 Label  \n",
      "0  3.699078  0.218039  1.904689 -3.646656 -3.641317 -2.606387   sil  \n",
      "1  9.506688  1.032303  6.516931  8.285855  4.784435  5.485925   sil  \n",
      "2  4.911666 -2.691708 -1.599512  3.772963  2.246570  6.085565   sil  \n",
      "3  2.231653  1.616013 -5.261802  0.721313 -3.738060 -0.459576   sil  \n",
      "4  2.199870  4.351945 -5.062879  7.001394  5.654462  5.851408   sil  \n"
     ]
    }
   ],
   "source": [
    "df = pd.read_hdf(\"D:\\Mtech\\Sem4\\ASR\\Project\\\\test_timit.hdf\")\n",
    "features = np.array(df[\"features\"].tolist())\n",
    "label = np.array(df[\"labels\"].tolist())\n",
    "df1 = pd.DataFrame(features)\n",
    "df2 = pd.DataFrame(label)\n",
    "df = pd.merge(df1, df2, right_index=True, left_index=True)\n",
    "df.rename(columns={'0_y': 'Label'}, inplace=True)\n",
    "print(df.head())"
   ]
  },
  {
   "cell_type": "code",
   "execution_count": 14,
   "metadata": {},
   "outputs": [
    {
     "name": "stdout",
     "output_type": "stream",
     "text": [
      "PER for 2 M_GMM 0.8645264136740025\n",
      "PER for 4 M_GMM 0.8535845547535758\n",
      "PER for 8 M_GMM 0.8443718726475667\n",
      "PER for 16 M_GMM 0.8489771066731612\n",
      "PER for 32 M_GMM 0.8504228844706195\n",
      "PER for 64 M_GMM 0.8536288358499756\n",
      "PER for 128 M_GMM 0.8573263073993712\n"
     ]
    }
   ],
   "source": [
    "perCt =0\n",
    "totalCt =0\n",
    "\n",
    "def calPER(x,lbl):\n",
    "    global perCt\n",
    "    global totalCt\n",
    "    totalCt += 1\n",
    "    if x[lbl] != x['Label']:\n",
    "        #print(x[lbl],x['Label'])\n",
    "        if(len(x[lbl]) == 0 and len(x['Label'])!= 0 ) or (len(x[lbl]) != 0 and len(x['Label'])== 0 ) or (len(x[lbl]) != 0 and len(x['Label'])!= 0 ):\n",
    "            perCt += 1\n",
    "\n",
    "        \n",
    "test_df = df.iloc[:,:-1]\n",
    "for i in range(1,8):\n",
    "    filename = ''.join(['D:\\Mtech\\Sem4\\ASR\\Project\\Model\\\\',str(2**i),'M_GMM\\\\','*.pkl'])\n",
    "    eval_df = pd.DataFrame()\n",
    "    for file in glob.glob(filename):\n",
    "        #print(file)\n",
    "        with open(file, \"rb\") as f:\n",
    "            gmm = pickle.load(f)\n",
    "            score = gmm.score_samples(test_df)\n",
    "            label = os.path.basename(file).split('_')[0]\n",
    "            eval_df[label] = score\n",
    "    eval_label = ''.join(['eval_score_',str(2**i),'M_GMM'])\n",
    "    df[eval_label] = eval_df.idxmax(axis=1)\n",
    "    df.apply(calPER,axis=1,args=(eval_label,))\n",
    "    print('PER for',str(2**i),'M_GMM',perCt/totalCt)\n",
    "    perCt =0\n",
    "    totalCt =0\n"
   ]
  }
 ],
 "metadata": {
  "kernelspec": {
   "display_name": "Python 3",
   "language": "python",
   "name": "python3"
  },
  "language_info": {
   "codemirror_mode": {
    "name": "ipython",
    "version": 3
   },
   "file_extension": ".py",
   "mimetype": "text/x-python",
   "name": "python",
   "nbconvert_exporter": "python",
   "pygments_lexer": "ipython3",
   "version": "3.6.5"
  }
 },
 "nbformat": 4,
 "nbformat_minor": 2
}
